{
 "cells": [
  {
   "cell_type": "code",
   "execution_count": 2,
   "id": "723311c7-402b-4060-a09f-84fa54266b65",
   "metadata": {},
   "outputs": [
    {
     "name": "stdout",
     "output_type": "stream",
     "text": [
      "Added C:\\Users\\kundan yadav\\OneDrive\\Desktop\\New Folder\\CCL-Net\\models to sys.path\n"
     ]
    }
   ],
   "source": [
    "import sys\n",
    "from pathlib import Path\n",
    "\n",
    "# Add the parent directory to sys.path\n",
    "project_dir = Path().resolve()  # Get the current project directory\n",
    "sys.path.append(str(project_dir))\n",
    "print(f\"Added {project_dir} to sys.path\")\n"
   ]
  },
  {
   "cell_type": "code",
   "execution_count": 6,
   "id": "62d3ffa3-7fb1-4f1a-9eec-dbaae581dd90",
   "metadata": {},
   "outputs": [
    {
     "ename": "ModuleNotFoundError",
     "evalue": "No module named 'models.CCLNet'",
     "output_type": "error",
     "traceback": [
      "\u001b[1;31m---------------------------------------------------------------------------\u001b[0m",
      "\u001b[1;31mModuleNotFoundError\u001b[0m                       Traceback (most recent call last)",
      "Cell \u001b[1;32mIn[6], line 9\u001b[0m\n\u001b[0;32m      5\u001b[0m \u001b[38;5;28;01mfrom\u001b[39;00m\u001b[38;5;250m \u001b[39m\u001b[38;5;21;01mcollections\u001b[39;00m\u001b[38;5;250m \u001b[39m\u001b[38;5;28;01mimport\u001b[39;00m OrderedDict\n\u001b[0;32m      7\u001b[0m \u001b[38;5;28;01mfrom\u001b[39;00m\u001b[38;5;250m \u001b[39m\u001b[38;5;21;01mbase_model\u001b[39;00m\u001b[38;5;250m \u001b[39m\u001b[38;5;28;01mimport\u001b[39;00m BaseModel\n\u001b[1;32m----> 9\u001b[0m \u001b[38;5;28;01mfrom\u001b[39;00m\u001b[38;5;250m \u001b[39m\u001b[38;5;21;01mCCLNet\u001b[39;00m\u001b[38;5;21;01m.\u001b[39;00m\u001b[38;5;21;01mCCNet\u001b[39;00m\u001b[38;5;250m \u001b[39m\u001b[38;5;28;01mimport\u001b[39;00m CCNet\n\u001b[0;32m     10\u001b[0m \u001b[38;5;28;01mfrom\u001b[39;00m\u001b[38;5;250m \u001b[39m\u001b[38;5;21;01mCCLNet\u001b[39;00m\u001b[38;5;21;01m.\u001b[39;00m\u001b[38;5;21;01mCCLoss\u001b[39;00m\u001b[38;5;250m \u001b[39m\u001b[38;5;28;01mimport\u001b[39;00m CCLoss\n\u001b[0;32m     11\u001b[0m \u001b[38;5;28;01mfrom\u001b[39;00m\u001b[38;5;250m \u001b[39m\u001b[38;5;21;01mCCLNet\u001b[39;00m\u001b[38;5;21;01m.\u001b[39;00m\u001b[38;5;21;01mPublic\u001b[39;00m\u001b[38;5;21;01m.\u001b[39;00m\u001b[38;5;21;01mutil\u001b[39;00m\u001b[38;5;21;01m.\u001b[39;00m\u001b[38;5;21;01mLAB2RGB_v2\u001b[39;00m\u001b[38;5;250m \u001b[39m\u001b[38;5;28;01mimport\u001b[39;00m Lab2RGB\n",
      "File \u001b[1;32m~\\OneDrive\\Desktop\\New Folder\\CCL-Net\\models\\CCLNet\\CCNet.py:5\u001b[0m\n\u001b[0;32m      1\u001b[0m \u001b[38;5;66;03m#File: models/CCLNet/CCNet.py\u001b[39;00m\n\u001b[0;32m      4\u001b[0m \u001b[38;5;28;01mfrom\u001b[39;00m\u001b[38;5;250m \u001b[39m\u001b[38;5;21;01mCCLNet\u001b[39;00m\u001b[38;5;21;01m.\u001b[39;00m\u001b[38;5;21;01mBaseNet\u001b[39;00m\u001b[38;5;250m \u001b[39m\u001b[38;5;28;01mimport\u001b[39;00m BaseNet\n\u001b[1;32m----> 5\u001b[0m \u001b[38;5;28;01mfrom\u001b[39;00m\u001b[38;5;250m \u001b[39m\u001b[38;5;21;01mCCLNet\u001b[39;00m\u001b[38;5;21;01m.\u001b[39;00m\u001b[38;5;21;01mAbsorptionBranch\u001b[39;00m\u001b[38;5;21;01m.\u001b[39;00m\u001b[38;5;21;01mAbsorptionBranchV3_0\u001b[39;00m\u001b[38;5;250m \u001b[39m\u001b[38;5;28;01mimport\u001b[39;00m CCBranchV3_0\n\u001b[0;32m      6\u001b[0m \u001b[38;5;28;01mfrom\u001b[39;00m\u001b[38;5;250m \u001b[39m\u001b[38;5;21;01mCCLNet\u001b[39;00m\u001b[38;5;21;01m.\u001b[39;00m\u001b[38;5;21;01mPublic\u001b[39;00m\u001b[38;5;21;01m.\u001b[39;00m\u001b[38;5;21;01mnet\u001b[39;00m\u001b[38;5;21;01m.\u001b[39;00m\u001b[38;5;21;01mempty_branch\u001b[39;00m\u001b[38;5;250m \u001b[39m\u001b[38;5;28;01mimport\u001b[39;00m EmptyBranch\n\u001b[0;32m      7\u001b[0m \u001b[38;5;28;01mfrom\u001b[39;00m\u001b[38;5;250m \u001b[39m\u001b[38;5;21;01mCCLNet\u001b[39;00m\u001b[38;5;21;01m.\u001b[39;00m\u001b[38;5;21;01mPublic\u001b[39;00m\u001b[38;5;21;01m.\u001b[39;00m\u001b[38;5;21;01mnet\u001b[39;00m\u001b[38;5;21;01m.\u001b[39;00m\u001b[38;5;21;01mempty_fm\u001b[39;00m\u001b[38;5;250m \u001b[39m\u001b[38;5;28;01mimport\u001b[39;00m EmptyFM\n",
      "File \u001b[1;32m~\\OneDrive\\Desktop\\New Folder\\CCL-Net\\models\\CCLNet\\AbsorptionBranch\\AbsorptionBranchV3_0.py:8\u001b[0m\n\u001b[0;32m      5\u001b[0m \u001b[38;5;28;01mimport\u001b[39;00m\u001b[38;5;250m \u001b[39m\u001b[38;5;21;01mtorch\u001b[39;00m\u001b[38;5;21;01m.\u001b[39;00m\u001b[38;5;21;01mnn\u001b[39;00m\u001b[38;5;250m \u001b[39m\u001b[38;5;28;01mas\u001b[39;00m\u001b[38;5;250m \u001b[39m\u001b[38;5;21;01mnn\u001b[39;00m\n\u001b[0;32m      6\u001b[0m \u001b[38;5;28;01mimport\u001b[39;00m\u001b[38;5;250m \u001b[39m\u001b[38;5;21;01mtorch\u001b[39;00m\n\u001b[1;32m----> 8\u001b[0m \u001b[38;5;28;01mfrom\u001b[39;00m\u001b[38;5;250m \u001b[39m\u001b[38;5;21;01mmodels\u001b[39;00m\u001b[38;5;21;01m.\u001b[39;00m\u001b[38;5;21;01mCCLNet\u001b[39;00m\u001b[38;5;21;01m.\u001b[39;00m\u001b[38;5;21;01mPublic\u001b[39;00m\u001b[38;5;21;01m.\u001b[39;00m\u001b[38;5;21;01mnet\u001b[39;00m\u001b[38;5;21;01m.\u001b[39;00m\u001b[38;5;21;01mFAB\u001b[39;00m\u001b[38;5;250m \u001b[39m\u001b[38;5;28;01mimport\u001b[39;00m FABlock, default_conv\n\u001b[0;32m     10\u001b[0m \u001b[38;5;28;01mclass\u001b[39;00m\u001b[38;5;250m \u001b[39m\u001b[38;5;21;01mCCBranchV3_0\u001b[39;00m(nn\u001b[38;5;241m.\u001b[39mModule):\n\u001b[0;32m     11\u001b[0m     \u001b[38;5;28;01mdef\u001b[39;00m\u001b[38;5;250m \u001b[39m\u001b[38;5;21m__init__\u001b[39m(\u001b[38;5;28mself\u001b[39m,\n\u001b[0;32m     12\u001b[0m \t input_chn \u001b[38;5;241m=\u001b[39m \u001b[38;5;241m2\u001b[39m,\n\u001b[0;32m     13\u001b[0m \t feature_chn\u001b[38;5;241m=\u001b[39m\u001b[38;5;241m64\u001b[39m,\n\u001b[0;32m     14\u001b[0m \t output_chn \u001b[38;5;241m=\u001b[39m \u001b[38;5;241m2\u001b[39m):\n",
      "\u001b[1;31mModuleNotFoundError\u001b[0m: No module named 'models.CCLNet'"
     ]
    }
   ],
   "source": [
    "#File: models/CCNet_model.py\n",
    "\n",
    "\n",
    "import torch\n",
    "from collections import OrderedDict\n",
    "\n",
    "from base_model import BaseModel\n",
    "\n",
    "from CCLNet.CCNet import CCNet\n",
    "from CCLNet.CCLoss import CCLoss\n",
    "from CCLNet.Public.util.LAB2RGB_v2 import Lab2RGB\n",
    "\n",
    "class CCNetModel(BaseModel):\n",
    "    def __init__(self, opt):\n",
    "        BaseModel.__init__(self, opt)\n",
    "\n",
    "        self.isTrain = opt.isTrain\n",
    "\n",
    "        self.netG_CC = CCNet(opt)\n",
    "        self.lab2rgb = Lab2RGB()\n",
    "\n",
    "        if self.isTrain:\n",
    "            self.loss_G = CCLoss()\n",
    "            self.optimizer_G = torch.optim.Adam(self.netG_CC.parameters(), lr=opt.lr, betas=(opt.beta1, 0.999))\n",
    "            self.optimizers.append(self.optimizer_G) # for adjust lr rate in BaseModel\n",
    "\n",
    "            self.loss_names = [\"all\"]\n",
    "\n",
    "            self.visual_names = ['raw_rgb', 'ref_rawLrefab', 'pred_cc', 'ref_rgb', 'pred_cc_refLpredab']\n",
    "        else:  # during test time, load netG\n",
    "            self.visual_names = ['pred_cc']\n",
    "\n",
    "        self.model_names = ['G_CC']\n",
    "\n",
    "        pass\n",
    "\n",
    "    def set_input(self, input):\n",
    "        self.input = input\n",
    "        self.raw = input['raw'].to(self.device)\n",
    "        if self.isTrain:\n",
    "            self.ref = input['ref'].to(self.device)\n",
    "\n",
    "        self.image_paths = input['raw_paths']\n",
    "        pass\n",
    "\n",
    "    def optimize_parameters(self):\n",
    "        if self.isTrain:\n",
    "            self.forward()\n",
    "            self.optimizer_G.zero_grad()\n",
    "            self.__backward()\n",
    "            self.optimizer_G.step()\n",
    "        else:\n",
    "            pass\n",
    "\n",
    "    def forward(self):\n",
    "        self.pred_hr, self.pred_cc_lab, self.pred_enc = self.netG_CC(self.raw)\n",
    "\n",
    "        if self.isTrain:\n",
    "            ref_L = self.ref[:, 0:1, :, :]\n",
    "            cc_ab = self.pred_cc_lab[:, 1:3, :, :]\n",
    "            self.pred_cc_refLpredab = torch.cat((ref_L, cc_ab),dim=1)\n",
    "\n",
    "            raw_L = self.raw[:, 0:1, :, :]\n",
    "            ref_ab = self.ref[:, 1:3, :, :]\n",
    "            self.ref_rawLrefab = torch.cat((raw_L, ref_ab),dim=1)\n",
    "\n",
    "            self.raw_rgb = self.lab2rgb.labn12p1_to_rgbn12p1(self.raw)\n",
    "            self.ref_rawLrefab = self.lab2rgb.labn12p1_to_rgbn12p1(self.ref_rawLrefab)\n",
    "\n",
    "            self.ref_rgb = self.lab2rgb.labn12p1_to_rgbn12p1(self.ref)\n",
    "            self.pred_cc_refLpredab = self.lab2rgb.labn12p1_to_rgbn12p1(self.pred_cc_refLpredab)\n",
    "\n",
    "        self.pred_cc = self.lab2rgb.labn12p1_to_rgbn12p1(self.pred_cc_lab)\n",
    "\n",
    "        pass\n",
    "\n",
    "    def __backward(self):\n",
    "        if self.isTrain:\n",
    "            self.loss_all = self.loss_G(self.raw, self.ref, self.pred_hr, self.pred_cc_lab, self.pred_enc)\n",
    "\n",
    "            _ = self.loss_G.gethrloss()\n",
    "            loss_cc = self.loss_G.getccloss()\n",
    "            _ = self.loss_G.getencloss()\n",
    "\n",
    "            if isinstance(loss_cc, OrderedDict):\n",
    "                for k, v in loss_cc.items():\n",
    "                    self.loss_names.append(k)\n",
    "                    setattr(self, \"loss_\" + k, v)\n",
    "\n",
    "            self.loss_all.backward()\n",
    "        else:\n",
    "            pass\n",
    "\n"
   ]
  },
  {
   "cell_type": "code",
   "execution_count": null,
   "id": "4ed638c8-31d6-49c8-96a6-c6876729b04b",
   "metadata": {},
   "outputs": [],
   "source": []
  },
  {
   "cell_type": "code",
   "execution_count": 18,
   "id": "01c8c3df-dd4f-4cdc-842d-7deb4830988a",
   "metadata": {},
   "outputs": [
    {
     "ename": "ImportError",
     "evalue": "cannot import name 'datasets' from 'dll.datasets' (C:\\Users\\kundan yadav\\OneDrive\\Desktop\\New Folder\\CCL-Net\\models\\dll\\datasets\\__init__.py)",
     "output_type": "error",
     "traceback": [
      "\u001b[1;31m---------------------------------------------------------------------------\u001b[0m",
      "\u001b[1;31mImportError\u001b[0m                               Traceback (most recent call last)",
      "Cell \u001b[1;32mIn[18], line 5\u001b[0m\n\u001b[0;32m      2\u001b[0m \u001b[38;5;28;01mfrom\u001b[39;00m\u001b[38;5;250m \u001b[39m\u001b[38;5;21;01mcollections\u001b[39;00m\u001b[38;5;250m \u001b[39m\u001b[38;5;28;01mimport\u001b[39;00m OrderedDict\n\u001b[0;32m      4\u001b[0m \u001b[38;5;28;01mfrom\u001b[39;00m\u001b[38;5;250m \u001b[39m\u001b[38;5;21;01mbase_model\u001b[39;00m\u001b[38;5;250m \u001b[39m\u001b[38;5;28;01mimport\u001b[39;00m BaseModel\n\u001b[1;32m----> 5\u001b[0m \u001b[38;5;28;01mfrom\u001b[39;00m\u001b[38;5;250m \u001b[39m\u001b[38;5;21;01mdll\u001b[39;00m\u001b[38;5;250m \u001b[39m\u001b[38;5;28;01mimport\u001b[39;00m evaluate\n\u001b[0;32m      6\u001b[0m \u001b[38;5;28;01mfrom\u001b[39;00m\u001b[38;5;250m \u001b[39m\u001b[38;5;21;01mCCLNet\u001b[39;00m\u001b[38;5;21;01m.\u001b[39;00m\u001b[38;5;21;01mCCNet\u001b[39;00m\u001b[38;5;250m \u001b[39m\u001b[38;5;28;01mimport\u001b[39;00m CCNet\n\u001b[0;32m      7\u001b[0m \u001b[38;5;28;01mfrom\u001b[39;00m\u001b[38;5;250m \u001b[39m\u001b[38;5;21;01mCCLNet\u001b[39;00m\u001b[38;5;21;01m.\u001b[39;00m\u001b[38;5;21;01mPublic\u001b[39;00m\u001b[38;5;21;01m.\u001b[39;00m\u001b[38;5;21;01mutil\u001b[39;00m\u001b[38;5;21;01m.\u001b[39;00m\u001b[38;5;21;01mLAB2RGB_v2\u001b[39;00m\u001b[38;5;250m \u001b[39m\u001b[38;5;28;01mimport\u001b[39;00m Lab2RGB\n",
      "File \u001b[1;32m~\\OneDrive\\Desktop\\New Folder\\CCL-Net\\models\\dll\\evaluate.py:11\u001b[0m\n\u001b[0;32m      9\u001b[0m \u001b[38;5;28;01mimport\u001b[39;00m\u001b[38;5;250m \u001b[39m\u001b[38;5;21;01mtorchvision\u001b[39;00m\n\u001b[0;32m     10\u001b[0m \u001b[38;5;28;01mimport\u001b[39;00m\u001b[38;5;250m \u001b[39m\u001b[38;5;21;01mmodels\u001b[39;00m\n\u001b[1;32m---> 11\u001b[0m \u001b[38;5;28;01mfrom\u001b[39;00m\u001b[38;5;250m \u001b[39m\u001b[38;5;21;01m.\u001b[39;00m\u001b[38;5;21;01mdatasets\u001b[39;00m\u001b[38;5;250m \u001b[39m\u001b[38;5;28;01mimport\u001b[39;00m datasets\n\u001b[0;32m     12\u001b[0m \u001b[38;5;28;01mimport\u001b[39;00m\u001b[38;5;250m \u001b[39m\u001b[38;5;21;01mutils\u001b[39;00m\n\u001b[0;32m     13\u001b[0m \u001b[38;5;28;01mfrom\u001b[39;00m\u001b[38;5;250m \u001b[39m\u001b[38;5;21;01mmodels\u001b[39;00m\u001b[38;5;250m \u001b[39m\u001b[38;5;28;01mimport\u001b[39;00m DenoisingDiffusion, DiffusiveRestoration\n",
      "\u001b[1;31mImportError\u001b[0m: cannot import name 'datasets' from 'dll.datasets' (C:\\Users\\kundan yadav\\OneDrive\\Desktop\\New Folder\\CCL-Net\\models\\dll\\datasets\\__init__.py)"
     ]
    }
   ],
   "source": [
    "import torch\n",
    "from collections import OrderedDict\n",
    "\n",
    "from base_model import BaseModel\n",
    "from dll import evaluate\n",
    "from CCLNet.CCNet import CCNet\n",
    "from CCLNet.Public.util.LAB2RGB_v2 import Lab2RGB\n",
    "\n",
    "class CCNetModel(BaseModel):\n",
    "    def __init__(self, opt):\n",
    "        BaseModel.__init__(self, opt)\n",
    "\n",
    "        self.isTrain = False\n",
    "\n",
    "        self.netG_CC = CCNet(opt)\n",
    "        self.lab2rgb = Lab2RGB()\n",
    "\n",
    "        self.visual_names = ['pred_cc']\n",
    "        self.model_names = ['G_CC']\n",
    "\n",
    "    def set_input(self, input):\n",
    "        self.input = input\n",
    "        self.raw = input['raw'].to(self.device)\n",
    "        self.image_paths = input['raw_paths']\n",
    "\n",
    "    def forward(self):\n",
    "        self.pred_hr, self.pred_cc_lab, self.pred_enc = self.netG_CC(self.raw)\n",
    "\n",
    "        self.pred_cc = self.lab2rgb.labn12p1_to_rgbn12p1(self.pred_cc_lab)\n",
    "\n",
    "    def optimize_parameters(self):\n",
    "        pass\n"
   ]
  },
  {
   "cell_type": "code",
   "execution_count": null,
   "id": "4c8ff5a0-9ed4-497f-90f6-9f8e295144fb",
   "metadata": {},
   "outputs": [],
   "source": []
  }
 ],
 "metadata": {
  "kernelspec": {
   "display_name": "Python 3 (ipykernel)",
   "language": "python",
   "name": "python3"
  },
  "language_info": {
   "codemirror_mode": {
    "name": "ipython",
    "version": 3
   },
   "file_extension": ".py",
   "mimetype": "text/x-python",
   "name": "python",
   "nbconvert_exporter": "python",
   "pygments_lexer": "ipython3",
   "version": "3.9.21"
  }
 },
 "nbformat": 4,
 "nbformat_minor": 5
}
